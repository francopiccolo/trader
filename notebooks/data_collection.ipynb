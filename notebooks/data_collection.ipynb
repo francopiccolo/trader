{
 "cells": [
  {
   "cell_type": "code",
   "execution_count": 1,
   "metadata": {},
   "outputs": [],
   "source": [
    "import os\n",
    "\n",
    "import yfinance as yf\n",
    "import numpy as np\n",
    "import pandas as pd\n",
    "import seaborn as sns\n",
    "import matplotlib"
   ]
  },
  {
   "cell_type": "code",
   "execution_count": 2,
   "metadata": {},
   "outputs": [],
   "source": [
    "os.chdir('/Users/francopiccolo/Dropbox/Startup/Investing/stocks/')"
   ]
  },
  {
   "cell_type": "code",
   "execution_count": 3,
   "metadata": {},
   "outputs": [],
   "source": [
    "tickers = pd.read_csv('./data/tickers.csv')"
   ]
  },
  {
   "cell_type": "code",
   "execution_count": 4,
   "metadata": {},
   "outputs": [],
   "source": [
    "tickers_string = ' '.join(tickers['ticker'].to_list())"
   ]
  },
  {
   "cell_type": "code",
   "execution_count": 58,
   "metadata": {},
   "outputs": [
    {
     "name": "stdout",
     "output_type": "stream",
     "text": [
      "[*********************100%***********************]  198 of 198 completed\n",
      "\n",
      "33 Failed downloads:\n",
      "- CTAQW: No data found for this date range, symbol may be delisted\n",
      "- AGBAR: No data found for this date range, symbol may be delisted\n",
      "- SHIPZ: No data found for this date range, symbol may be delisted\n",
      "- DMS-WS: No data found, symbol may be delisted\n",
      "- KLR-WS: No data found, symbol may be delisted\n",
      "- RSI-WS: No data found, symbol may be delisted\n",
      "- XPOA-WS: No data found, symbol may be delisted\n",
      "- NDRAW: No data found for this date range, symbol may be delisted\n",
      "- GRNVR: No data found for this date range, symbol may be delisted\n",
      "- FPAC-WS: No data found, symbol may be delisted\n",
      "- CRSAW: No data found for this date range, symbol may be delisted\n",
      "- LEXXW: No data found for this date range, symbol may be delisted\n",
      "- LGL-WS: No data found, symbol may be delisted\n",
      "- VRMEW: No data found for this date range, symbol may be delisted\n",
      "- ARKOW: No data found for this date range, symbol may be delisted\n",
      "- OTLKW: No data found for this date range, symbol may be delisted\n",
      "- WPF-WS: No data found, symbol may be delisted\n",
      "- CMLFW: No data found for this date range, symbol may be delisted\n",
      "- RVPHW: No data found for this date range, symbol may be delisted\n",
      "- YSACW: No data found for this date range, symbol may be delisted\n",
      "- ARTLW: No data found for this date range, symbol may be delisted\n",
      "- CCIV-WS: No data found, symbol may be delisted\n",
      "- SHIPW: No data found for this date range, symbol may be delisted\n",
      "- CCIV-U: No data found, symbol may be delisted\n",
      "- SFTW-WS: No data found, symbol may be delisted\n",
      "- PHUNW: No data found for this date range, symbol may be delisted\n",
      "- APPHW: No data found for this date range, symbol may be delisted\n",
      "- GNOGW: No data found for this date range, symbol may be delisted\n",
      "- HPX-WS: No data found, symbol may be delisted\n",
      "- AIRTW: No data found for this date range, symbol may be delisted\n",
      "- STPK-WS: No data found, symbol may be delisted\n",
      "- HOLUW: No data found for this date range, symbol may be delisted\n",
      "- MOTV-WS: No data found, symbol may be delisted\n"
     ]
    }
   ],
   "source": [
    "data = yf.download(\n",
    "        tickers = tickers_string,\n",
    "        period = '60d',\n",
    "        interval = '30m',\n",
    "        )\n",
    "data.to_pickle('./data/raw.pkl')"
   ]
  },
  {
   "cell_type": "code",
   "execution_count": 61,
   "metadata": {},
   "outputs": [],
   "source": [
    "data = pd.read_pickle('./data/raw.pkl')\n",
    "data.index.name = 'Datetime'\n",
    "data.columns.names = ['Metric', 'Ticker']\n",
    "data = data.stack('Ticker').reset_index(1)\n",
    "data.to_csv('./data/data.csv')"
   ]
  }
 ],
 "metadata": {
  "kernelspec": {
   "display_name": "Python 3",
   "language": "python",
   "name": "python3"
  },
  "language_info": {
   "codemirror_mode": {
    "name": "ipython",
    "version": 3
   },
   "file_extension": ".py",
   "mimetype": "text/x-python",
   "name": "python",
   "nbconvert_exporter": "python",
   "pygments_lexer": "ipython3",
   "version": "3.8.5"
  }
 },
 "nbformat": 4,
 "nbformat_minor": 4
}
